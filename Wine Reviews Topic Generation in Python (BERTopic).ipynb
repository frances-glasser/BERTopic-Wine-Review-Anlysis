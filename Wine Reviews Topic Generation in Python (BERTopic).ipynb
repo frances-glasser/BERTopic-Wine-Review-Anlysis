{
  "cells": [
    {
      "cell_type": "markdown",
      "id": "32ab40b8",
      "metadata": {
        "id": "32ab40b8"
      },
      "source": [
        "## Homework 4  Build Topics Using BERTopic.\n",
        "\n",
        "## BERTopic is a topic modeling technique that leverages 🤗 transformers and c-TF-IDF (https://maartengr.github.io/BERTopic/api/ctfidf.html) to create dense clusters allowing for easily interpretable topics whilst keeping important words in the topic descriptions.\n",
      ]
    },
    {
      "cell_type": "markdown",
      "id": "95a3fdcd",
      "metadata": {
        "id": "95a3fdcd"
      },
      "source": [
        "## Student names here that worked on the project together which includes also the clustering assignment:\n",
        "\n",
        "1.\n",
        "2.\n",
        "3.\n",
        "4.\n",
        "\n",
        "Up to 4.\n",
        "\n"
      ]
    },
    {
      "cell_type": "code",
      "execution_count": null,
      "id": "5c65d08a",
      "metadata": {
        "id": "5c65d08a"
      },
      "outputs": [],
      "source": [
        "### Check working directory to load CSV\n",
        "\n",
        "import os\n",
        "\n",
        "print('getcwd:      ', os.getcwd())\n",
        "\n",
        "import pandas as pd"
      ]
    },
    {
      "cell_type": "code",
      "execution_count": null,
      "id": "cb441ba3",
      "metadata": {
        "id": "cb441ba3"
      },
      "outputs": [],
      "source": [
        "##  Install BerTopic  https://maartengr.github.io/BERTopic/index.html\n",
        "\n",
        "##   I ran from the following from a conda command prompt to get the hbscan insalled\n",
        "## conda install -c conda-forge hdbscan\n",
        "\n",
        "## As noted above some students could only get BERT to train on google colab\n",
        "\n",
        "\n",
        "import sys\n",
        "!{sys.executable} -m pip install BERTopic"
      ]
    },
    {
      "cell_type": "code",
      "execution_count": null,
      "id": "25541b86",
      "metadata": {
        "id": "25541b86"
      },
      "outputs": [],
      "source": [
        "##  Other packages\n",
        "import pandas as pd\n",
        "from bertopic import BERTopic\n",
        "from sentence_transformers import SentenceTransformer, util\n",
        "from umap import UMAP\n",
        "from hdbscan import HDBSCAN\n",
        "from sklearn.feature_extraction.text import CountVectorizer\n",
        "from bertopic.vectorizers import ClassTfidfTransformer\n",
        "import numpy as np\n",
        ""
      ]
    },
    {
      "cell_type": "code",
      "execution_count": null,
      "id": "d006f67c",
      "metadata": {
        "id": "d006f67c"
      },
      "outputs": [],
      "source": [
        " #create a pandas dataframe\n",
        "df = pd.read_csv('winemag-data-130k-v2.csv')\n",
        "\n",
        "#check the first 5 dataframe rows\n",
        "df.head()"
      ]
    },
    {
      "cell_type": "code",
      "execution_count": null,
      "id": "60d39769",
      "metadata": {
        "id": "60d39769"
      },
      "outputs": [],
      "source": [
        "# Modify this code to read only wines from Italy\n",
        "df = df.loc[df.'col' == 'value']\n",
        "\n",
        "df.head()"
      ]
    },
    {
      "cell_type": "code",
      "execution_count": null,
      "id": "22313487",
      "metadata": {
        "id": "22313487"
      },
      "outputs": [],
      "source": [
        "#create an array of descriptions\n",
        "docs = df.description.values"
      ]
    },
    {
      "cell_type": "markdown",
      "id": "dfc05818",
      "metadata": {
        "id": "dfc05818"
      },
      "source": [
        "## The BERTopic algorithm has five primary steps:\n",
        "\n",
        "1. Extract embeddings - Uses the sentence transformer library\n",
        "2. Reduce dimensionality - Uses the UMAP aglorithm\n",
        "3. Cluster reduced embeddings - Uses HBSCAN to form clustes of different shapes\n",
        "4. Tokenize topics -  Uses bag of words\n",
        "5. Extract topic words - class bsaed TF-IDF\n",
        "\n",
        "For this homework you will train an automated BerTopic model and later perform each of these steps individually. Use the last model for the visulizations."
      ]
    },
    {
      "cell_type": "markdown",
      "id": "0840cc74",
      "metadata": {
        "id": "0840cc74"
      },
      "source": [
        "Research Questions --  Enter you answers within this markdown cell.  10 points out the 60.\n",
        "1. Do language models like BERTopic require applying stop words.  Yes or No?  Why?\n",
        "2. Roughly how many parameters does GPT4 have?\n",
        "3. The python package for imputaton in Sklearn is SimpleImputer. True or False?\n",
        "4. What is the difference beween stemming and lematization?\n",
        "5. Is topic modeling an unsupervised machine learning technique?  Yes or No?"
      ]
    },
    {
      "cell_type": "code",
      "execution_count": null,
      "id": "8b947247",
      "metadata": {
        "id": "8b947247"
      },
      "outputs": [],
      "source": [
        "#instantiate BERTopic\n",
        "topic_model = BERTopic(language=\"english\", calculate_probabilities=True, verbose=True)\n",
        "\n",
        "# Generate the topics --\n",
        "# Note that training will take a few minutes\n",
        "# Batch size is a hyperparameter which defines the number of samples taken to work through\n",
        "#a particular machine learning model before updating its internal model parameters.\n",
        "#A batch can be considered a for-loop iterating over one or more samples and making predictions.\n",
        "# The default is for BERTtop 2 which I don't believe can be changed.\n",
        "# https://python.plainenglish.io/topic-modeling-for-beginners-using-bertopic-and-python-aaf1b421afeb\n",
        "\n",
        "topics, probs = topic_model.fit_transform(docs)"
      ]
    },
    {
      "cell_type": "code",
      "execution_count": null,
      "id": "abbc826a",
      "metadata": {
        "id": "abbc826a"
      },
      "outputs": [],
      "source": [
        "# Generate topics\n",
        "\n",
        "topic_model.get_topic_info()\n",
        "\n",
        "# Questions (rolled into the remaining 50 points)\n",
        "\n",
        "# How many topics are there? answer here\n",
        "# What does the -1 topic refer to? answer here.\n"
      ]
    },
    {
      "cell_type": "code",
      "execution_count": null,
      "id": "dc116368",
      "metadata": {
        "id": "dc116368"
      },
      "outputs": [],
      "source": [
        "topic_model.get_topic(n)\n",
        "# use this code to display a topic of your choice (enter a number for n) and then annotate\n",
        "# in your own words what the this collection of reviews is about. Try a few out to get something interesting."
      ]
    },
    {
      "cell_type": "code",
      "execution_count": null,
      "id": "5452742c",
      "metadata": {
        "id": "5452742c"
      },
      "outputs": [],
      "source": [
        "topic_model.get_topic(n)\n",
        "\n",
        "#  Do the samne for another topic"
      ]
    },
    {
      "cell_type": "code",
      "execution_count": null,
      "id": "ddf9da52",
      "metadata": {
        "id": "ddf9da52"
      },
      "outputs": [],
      "source": [
        "##  Run this example of training BERTopic sequentially.\n",
        "\n",
        "# Step 1 - Extract embeddings\n",
        "embedding_model = SentenceTransformer(\"all-MiniLM-L6-v2\")\n",
        "\n",
        "# Step 2 - Reduce dimensionality\n",
        "umap_model = UMAP(n_neighbors=15, n_components=5, min_dist=0.0, metric='cosine')\n",
        "\n",
        "# Step 3 - Cluster reduced embeddings\n",
        "hdbscan_model = HDBSCAN(min_cluster_size=15, metric='euclidean', cluster_selection_method='eom', prediction_data=True)\n",
        "\n",
        "# Step 4 - Tokenize topics\n",
        "vectorizer_model = CountVectorizer(stop_words=\"english\")\n",
        "\n",
        "# Step 5 - Create topic representation\n",
        "ctfidf_model = ClassTfidfTransformer()\n",
        "\n",
        "# All steps together\n",
        "topic_model = BERTopic(\n",
        "  embedding_model=embedding_model,    # Step 1 - Extract embeddings\n",
        "  umap_model=umap_model,              # Step 2 - Reduce dimensionality\n",
        "  hdbscan_model=hdbscan_model,        # Step 3 - Cluster reduced embeddings\n",
        "  vectorizer_model=vectorizer_model,  # Step 4 - Tokenize topics\n",
        "  ctfidf_model=ctfidf_model,          # Step 5 - Extract topic words\n",
        "\n",
        "  calculate_probabilities=True,\n",
        "  verbose=True\n",
        ")\n",
        "\n",
        "topics, probs = topic_model.fit_transform(docs)\n",
        "topic_model.get_topic_info()"
      ]
    },
    {
      "cell_type": "code",
      "execution_count": null,
      "id": "18870f3c",
      "metadata": {
        "id": "18870f3c"
      },
      "outputs": [],
      "source": [
        "## Render the following visualizations and answer the questions in a markdown cell you insert just above the viz.\n",
        "\n",
        "pip install bertopic[visualization]\n",
        "\n",
        "# 1.  2D representation of the topics - What are some parent and subtopics? Provide 2 examples\n",
        "# 2.  Hierarchical view - No question here just write code and run it to generatre the viz.\n",
        "# 3.  Bar chart  -  display 10 topics with 10 word labeling (task)\n",
        "# 4.  Heatmap  -  this displays the similarity matrix. By analyzing the similarity matrix, you can identify clusters\n",
        "#             of topics that are closely related to each other and those that are more distant.\n",
        "#             No repsonse/input is required other than you should be able to generate the heatmap.\n",
        "\n",
        "\n",
        "## Reference https://maartengr.github.io/BERTopic/getting_started/visualization/visualization.html#visualize-topics"
      ]
    },
    {
      "cell_type": "markdown",
      "id": "c915aea8",
      "metadata": {
        "id": "c915aea8"
      },
      "source": []
    }
  ],
  "metadata": {
    "kernelspec": {
      "display_name": "Python 3 (ipykernel)",
      "language": "python",
      "name": "python3"
    },
    "language_info": {
      "codemirror_mode": {
        "name": "ipython",
        "version": 3
      },
      "file_extension": ".py",
      "mimetype": "text/x-python",
      "name": "python",
      "nbconvert_exporter": "python",
      "pygments_lexer": "ipython3",
      "version": "3.11.5"
    },
    "colab": {
      "provenance": []
    }
  },
  "nbformat": 4,
  "nbformat_minor": 5
}

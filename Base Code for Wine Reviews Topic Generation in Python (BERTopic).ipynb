{
  "cells": [
    {
      "cell_type": "markdown",
      "id": "32ab40b8",
      "metadata": {
        "id": "32ab40b8"
      },
      "source": [
        "## Homework 4  Build Topics Using BERTopic.\n",
        "\n",
        "# BERTopic is a topic modeling technique that leverages transformers and c-TF-IDF (https://maartengr.github.io/BERTopic/api/ctfidf.html) to create dense clusters allowing for easily interpretable topics whilst keeping important words in the topic descriptions."
      ]
    },
    {
      "cell_type": "code",
      "execution_count": null,
      "id": "5c65d08a",
      "metadata": {
        "id": "5c65d08a"
      },
      "outputs": [],
      "source": [
        "### Check working directory to load CSV\n",
        "\n",
        "import os\n",
        "\n",
        "print('getcwd:      ', os.getcwd())\n",
        "\n",
        "import pandas as pd"
      ]
    },
    {
      "cell_type": "code",
      "execution_count": null,
      "id": "cb441ba3",
      "metadata": {
        "id": "cb441ba3"
      },
      "outputs": [],
      "source": [
        "##  Install BerTopic  https://maartengr.github.io/BERTopic/index.html\n",
        "\n",
        "import sys\n",
        "!{sys.executable} -m pip install BERTopic"
      ]
    },
    {
      "cell_type": "code",
      "execution_count": null,
      "id": "25541b86",
      "metadata": {
        "id": "25541b86"
      },
      "outputs": [],
      "source": [
        "##  Other packages\n",
        "import pandas as pd\n",
        "from bertopic import BERTopic\n",
        "from sentence_transformers import SentenceTransformer, util\n",
        "from umap import UMAP\n",
        "from hdbscan import HDBSCAN\n",
        "from sklearn.feature_extraction.text import CountVectorizer\n",
        "from bertopic.vectorizers import ClassTfidfTransformer\n",
        "import numpy as np"
      ]
    },
    {
      "cell_type": "code",
      "execution_count": null,
      "id": "d006f67c",
      "metadata": {
        "id": "d006f67c"
      },
      "outputs": [],
      "source": [
        " #create a pandas dataframe\n",
        "df = pd.read_csv('winemag-data-130k-v2.csv')\n",
        "\n",
        "#check the first 5 dataframe rows\n",
        "df.head()"
      ]
    },
    {
      "cell_type": "code",
      "execution_count": null,
      "id": "60d39769",
      "metadata": {
        "id": "60d39769"
      },
      "outputs": [],
      "source": [
        "# Modify this code to read only wines from Italy\n",
        "df = df.loc[df.'col' == 'value']\n",
        "df.head()"
      ]
    },
    {
      "cell_type": "code",
      "execution_count": null,
      "id": "22313487",
      "metadata": {
        "id": "22313487"
      },
      "outputs": [],
      "source": [
        "#create an array of descriptions\n",
        "docs = df.description.values"
      ]
    },
    {
      "cell_type": "markdown",
      "id": "dfc05818",
      "metadata": {
        "id": "dfc05818"
      },
      "source": [
        "## The BERTopic algorithm has five primary steps:\n",
        "\n",
        "1. Extract embeddings - Uses the sentence transformer library\n",
        "2. Reduce dimensionality - Uses the UMAP aglorithm\n",
        "3. Cluster reduced embeddings - Uses HBSCAN to form clustes of different shapes\n",
        "4. Tokenize topics -  Uses bag of words\n",
        "5. Extract topic words - class bsaed TF-IDF"
      ]
    },
    {
      "cell_type": "code",
      "execution_count": null,
      "id": "8b947247",
      "metadata": {
        "id": "8b947247"
      },
      "outputs": [],
      "source": [
        "#instantiate BERTopic\n",
        "topic_model = BERTopic(language=\"english\", calculate_probabilities=True, verbose=True)\n",
        "\n",
        "# Generate the topics --\n",
        "# Note that training will take a few minutes\n",
        "# Batch size is a hyperparameter which defines the number of samples taken to work through\n",
        "#a particular machine learning model before updating its internal model parameters.\n",
        "#A batch can be considered a for-loop iterating over one or more samples and making predictions.\n",
        "# The default is for BERTtop 2 which I don't believe can be changed.\n",
        "# https://python.plainenglish.io/topic-modeling-for-beginners-using-bertopic-and-python-aaf1b421afeb\n",
        "\n",
        "topics, probs = topic_model.fit_transform(docs)"
      ]
    },
    {
      "cell_type": "code",
      "execution_count": null,
      "id": "abbc826a",
      "metadata": {
        "id": "abbc826a"
      },
      "outputs": [],
      "source": [
        "# Generate topics\n",
        "topic_model.get_topic_info()"
      ]
    },
    {
      "cell_type": "code",
      "execution_count": null,
      "id": "dc116368",
      "metadata": {
        "id": "dc116368"
      },
      "outputs": [],
      "source": [
        "topic_model.get_topic(n) # use this code to display a topic of your choice (enter a number for n) and then annotate"
      ]
    },
    {
      "cell_type": "code",
      "execution_count": null,
      "id": "5452742c",
      "metadata": {
        "id": "5452742c"
      },
      "outputs": [],
      "source": [
        "topic_model.get_topic(n) # Repeate with new topic"
      ]
    },
    {
      "cell_type": "code",
      "execution_count": null,
      "id": "ddf9da52",
      "metadata": {
        "id": "ddf9da52"
      },
      "outputs": [],
      "source": [
        "##  Run this example of training BERTopic sequentially.\n",
        "\n",
        "# Step 1 - Extract embeddings\n",
        "embedding_model = SentenceTransformer(\"all-MiniLM-L6-v2\")\n",
        "\n",
        "# Step 2 - Reduce dimensionality\n",
        "umap_model = UMAP(n_neighbors=15, n_components=5, min_dist=0.0, metric='cosine')\n",
        "\n",
        "# Step 3 - Cluster reduced embeddings\n",
        "hdbscan_model = HDBSCAN(min_cluster_size=15, metric='euclidean', cluster_selection_method='eom', prediction_data=True)\n",
        "\n",
        "# Step 4 - Tokenize topics\n",
        "vectorizer_model = CountVectorizer(stop_words=\"english\")\n",
        "\n",
        "# Step 5 - Create topic representation\n",
        "ctfidf_model = ClassTfidfTransformer()\n",
        "\n",
        "# All steps together\n",
        "topic_model = BERTopic(\n",
        "  embedding_model=embedding_model,    # Step 1 - Extract embeddings\n",
        "  umap_model=umap_model,              # Step 2 - Reduce dimensionality\n",
        "  hdbscan_model=hdbscan_model,        # Step 3 - Cluster reduced embeddings\n",
        "  vectorizer_model=vectorizer_model,  # Step 4 - Tokenize topics\n",
        "  ctfidf_model=ctfidf_model,          # Step 5 - Extract topic words\n",
        "\n",
        "  calculate_probabilities=True,\n",
        "  verbose=True\n",
        ")\n",
        "\n",
        "topics, probs = topic_model.fit_transform(docs)\n",
        "topic_model.get_topic_info()"
      ]
    },
    {
      "cell_type": "code",
      "execution_count": null,
      "id": "18870f3c",
      "metadata": {
        "id": "18870f3c"
      },
      "outputs": [],
      "source": [
        "## Render the following visualizations and answer the questions in a markdown cell you insert just above the viz.\n",
        "\n",
        "pip install bertopic[visualization]\n",
        "\n",
        "## Reference https://maartengr.github.io/BERTopic/getting_started/visualization/visualization.html#visualize-topics"
      ]
    },
    {
      "cell_type": "markdown",
      "id": "c915aea8",
      "metadata": {
        "id": "c915aea8"
      },
      "source": []
    }
  ],
  "metadata": {
    "colab": {
      "provenance": []
    },
    "kernelspec": {
      "display_name": "Python 3 (ipykernel)",
      "language": "python",
      "name": "python3"
    },
    "language_info": {
      "codemirror_mode": {
        "name": "ipython",
        "version": 3
      },
      "file_extension": ".py",
      "mimetype": "text/x-python",
      "name": "python",
      "nbconvert_exporter": "python",
      "pygments_lexer": "ipython3",
      "version": "3.11.5"
    }
  },
  "nbformat": 4,
  "nbformat_minor": 5
}
